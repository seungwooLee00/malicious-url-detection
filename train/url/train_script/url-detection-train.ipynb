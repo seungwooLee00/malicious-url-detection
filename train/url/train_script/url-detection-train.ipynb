{
  "nbformat": 4,
  "nbformat_minor": 0,
  "metadata": {
    "colab": {
      "provenance": [],
      "machine_shape": "hm",
      "gpuType": "A100"
    },
    "kernelspec": {
      "name": "python3",
      "display_name": "Python 3"
    },
    "language_info": {
      "name": "python"
    },
    "accelerator": "GPU"
  },
  "cells": [
    {
      "cell_type": "code",
      "execution_count": 1,
      "metadata": {
        "colab": {
          "base_uri": "https://localhost:8080/"
        },
        "id": "uA3r__n4phkN",
        "outputId": "4ee48ac1-6fa4-412d-bd00-c5e3a9836479"
      },
      "outputs": [
        {
          "output_type": "stream",
          "name": "stdout",
          "text": [
            "Mounted at /content/drive\n"
          ]
        }
      ],
      "source": [
        "from google.colab import drive\n",
        "drive.mount('/content/drive')"
      ]
    },
    {
      "cell_type": "code",
      "source": [
        "import warnings\n",
        "warnings.filterwarnings(\"ignore\")"
      ],
      "metadata": {
        "id": "YJTVJZWXKNIO"
      },
      "execution_count": 2,
      "outputs": []
    },
    {
      "cell_type": "code",
      "source": [
        "import pandas as pd\n",
        "raw_data = pd.read_csv('/content/drive/MyDrive/malicious_phish.csv')\n",
        "raw_data.sample(10)"
      ],
      "metadata": {
        "colab": {
          "base_uri": "https://localhost:8080/",
          "height": 363
        },
        "id": "fuWyr9LAp7eU",
        "outputId": "ffeed50a-542d-4fda-b56f-3bd5ab7930fd"
      },
      "execution_count": 3,
      "outputs": [
        {
          "output_type": "execute_result",
          "data": {
            "text/plain": [
              "                                                      url        type\n",
              "495410  election-montreal.qc.ca/cadre-electoral-distri...      benign\n",
              "298746               realestate.oodle.com/ordway-co/?o=25      benign\n",
              "636693     www.kate.net/holidays/halloween/wallpaper.html    phishing\n",
              "239171                 en.wikipedia.org/wiki/Dalia_Dorner      benign\n",
              "416248              eforu.com/birthdays/September_17.html      benign\n",
              "464365        freebase.com/view/en/mountain_view_cemetery      benign\n",
              "453793                      hud-homes-in-oakland-ca.info/      benign\n",
              "48589   http://www.apostlescampingpark.com.au/index.ph...  defacement\n",
              "190992  tvlistings.zap2it.com/tv/the-penguins-of-madag...      benign\n",
              "173356  montreal.about.com/od/montrealevents/a/fantasi...      benign"
            ],
            "text/html": [
              "\n",
              "  <div id=\"df-7c75818d-4d76-494a-8d48-af6d72afceb7\" class=\"colab-df-container\">\n",
              "    <div>\n",
              "<style scoped>\n",
              "    .dataframe tbody tr th:only-of-type {\n",
              "        vertical-align: middle;\n",
              "    }\n",
              "\n",
              "    .dataframe tbody tr th {\n",
              "        vertical-align: top;\n",
              "    }\n",
              "\n",
              "    .dataframe thead th {\n",
              "        text-align: right;\n",
              "    }\n",
              "</style>\n",
              "<table border=\"1\" class=\"dataframe\">\n",
              "  <thead>\n",
              "    <tr style=\"text-align: right;\">\n",
              "      <th></th>\n",
              "      <th>url</th>\n",
              "      <th>type</th>\n",
              "    </tr>\n",
              "  </thead>\n",
              "  <tbody>\n",
              "    <tr>\n",
              "      <th>495410</th>\n",
              "      <td>election-montreal.qc.ca/cadre-electoral-distri...</td>\n",
              "      <td>benign</td>\n",
              "    </tr>\n",
              "    <tr>\n",
              "      <th>298746</th>\n",
              "      <td>realestate.oodle.com/ordway-co/?o=25</td>\n",
              "      <td>benign</td>\n",
              "    </tr>\n",
              "    <tr>\n",
              "      <th>636693</th>\n",
              "      <td>www.kate.net/holidays/halloween/wallpaper.html</td>\n",
              "      <td>phishing</td>\n",
              "    </tr>\n",
              "    <tr>\n",
              "      <th>239171</th>\n",
              "      <td>en.wikipedia.org/wiki/Dalia_Dorner</td>\n",
              "      <td>benign</td>\n",
              "    </tr>\n",
              "    <tr>\n",
              "      <th>416248</th>\n",
              "      <td>eforu.com/birthdays/September_17.html</td>\n",
              "      <td>benign</td>\n",
              "    </tr>\n",
              "    <tr>\n",
              "      <th>464365</th>\n",
              "      <td>freebase.com/view/en/mountain_view_cemetery</td>\n",
              "      <td>benign</td>\n",
              "    </tr>\n",
              "    <tr>\n",
              "      <th>453793</th>\n",
              "      <td>hud-homes-in-oakland-ca.info/</td>\n",
              "      <td>benign</td>\n",
              "    </tr>\n",
              "    <tr>\n",
              "      <th>48589</th>\n",
              "      <td>http://www.apostlescampingpark.com.au/index.ph...</td>\n",
              "      <td>defacement</td>\n",
              "    </tr>\n",
              "    <tr>\n",
              "      <th>190992</th>\n",
              "      <td>tvlistings.zap2it.com/tv/the-penguins-of-madag...</td>\n",
              "      <td>benign</td>\n",
              "    </tr>\n",
              "    <tr>\n",
              "      <th>173356</th>\n",
              "      <td>montreal.about.com/od/montrealevents/a/fantasi...</td>\n",
              "      <td>benign</td>\n",
              "    </tr>\n",
              "  </tbody>\n",
              "</table>\n",
              "</div>\n",
              "    <div class=\"colab-df-buttons\">\n",
              "\n",
              "  <div class=\"colab-df-container\">\n",
              "    <button class=\"colab-df-convert\" onclick=\"convertToInteractive('df-7c75818d-4d76-494a-8d48-af6d72afceb7')\"\n",
              "            title=\"Convert this dataframe to an interactive table.\"\n",
              "            style=\"display:none;\">\n",
              "\n",
              "  <svg xmlns=\"http://www.w3.org/2000/svg\" height=\"24px\" viewBox=\"0 -960 960 960\">\n",
              "    <path d=\"M120-120v-720h720v720H120Zm60-500h600v-160H180v160Zm220 220h160v-160H400v160Zm0 220h160v-160H400v160ZM180-400h160v-160H180v160Zm440 0h160v-160H620v160ZM180-180h160v-160H180v160Zm440 0h160v-160H620v160Z\"/>\n",
              "  </svg>\n",
              "    </button>\n",
              "\n",
              "  <style>\n",
              "    .colab-df-container {\n",
              "      display:flex;\n",
              "      gap: 12px;\n",
              "    }\n",
              "\n",
              "    .colab-df-convert {\n",
              "      background-color: #E8F0FE;\n",
              "      border: none;\n",
              "      border-radius: 50%;\n",
              "      cursor: pointer;\n",
              "      display: none;\n",
              "      fill: #1967D2;\n",
              "      height: 32px;\n",
              "      padding: 0 0 0 0;\n",
              "      width: 32px;\n",
              "    }\n",
              "\n",
              "    .colab-df-convert:hover {\n",
              "      background-color: #E2EBFA;\n",
              "      box-shadow: 0px 1px 2px rgba(60, 64, 67, 0.3), 0px 1px 3px 1px rgba(60, 64, 67, 0.15);\n",
              "      fill: #174EA6;\n",
              "    }\n",
              "\n",
              "    .colab-df-buttons div {\n",
              "      margin-bottom: 4px;\n",
              "    }\n",
              "\n",
              "    [theme=dark] .colab-df-convert {\n",
              "      background-color: #3B4455;\n",
              "      fill: #D2E3FC;\n",
              "    }\n",
              "\n",
              "    [theme=dark] .colab-df-convert:hover {\n",
              "      background-color: #434B5C;\n",
              "      box-shadow: 0px 1px 3px 1px rgba(0, 0, 0, 0.15);\n",
              "      filter: drop-shadow(0px 1px 2px rgba(0, 0, 0, 0.3));\n",
              "      fill: #FFFFFF;\n",
              "    }\n",
              "  </style>\n",
              "\n",
              "    <script>\n",
              "      const buttonEl =\n",
              "        document.querySelector('#df-7c75818d-4d76-494a-8d48-af6d72afceb7 button.colab-df-convert');\n",
              "      buttonEl.style.display =\n",
              "        google.colab.kernel.accessAllowed ? 'block' : 'none';\n",
              "\n",
              "      async function convertToInteractive(key) {\n",
              "        const element = document.querySelector('#df-7c75818d-4d76-494a-8d48-af6d72afceb7');\n",
              "        const dataTable =\n",
              "          await google.colab.kernel.invokeFunction('convertToInteractive',\n",
              "                                                    [key], {});\n",
              "        if (!dataTable) return;\n",
              "\n",
              "        const docLinkHtml = 'Like what you see? Visit the ' +\n",
              "          '<a target=\"_blank\" href=https://colab.research.google.com/notebooks/data_table.ipynb>data table notebook</a>'\n",
              "          + ' to learn more about interactive tables.';\n",
              "        element.innerHTML = '';\n",
              "        dataTable['output_type'] = 'display_data';\n",
              "        await google.colab.output.renderOutput(dataTable, element);\n",
              "        const docLink = document.createElement('div');\n",
              "        docLink.innerHTML = docLinkHtml;\n",
              "        element.appendChild(docLink);\n",
              "      }\n",
              "    </script>\n",
              "  </div>\n",
              "\n",
              "\n",
              "<div id=\"df-411b2199-39d2-4843-9335-cd4120d0e905\">\n",
              "  <button class=\"colab-df-quickchart\" onclick=\"quickchart('df-411b2199-39d2-4843-9335-cd4120d0e905')\"\n",
              "            title=\"Suggest charts\"\n",
              "            style=\"display:none;\">\n",
              "\n",
              "<svg xmlns=\"http://www.w3.org/2000/svg\" height=\"24px\"viewBox=\"0 0 24 24\"\n",
              "     width=\"24px\">\n",
              "    <g>\n",
              "        <path d=\"M19 3H5c-1.1 0-2 .9-2 2v14c0 1.1.9 2 2 2h14c1.1 0 2-.9 2-2V5c0-1.1-.9-2-2-2zM9 17H7v-7h2v7zm4 0h-2V7h2v10zm4 0h-2v-4h2v4z\"/>\n",
              "    </g>\n",
              "</svg>\n",
              "  </button>\n",
              "\n",
              "<style>\n",
              "  .colab-df-quickchart {\n",
              "      --bg-color: #E8F0FE;\n",
              "      --fill-color: #1967D2;\n",
              "      --hover-bg-color: #E2EBFA;\n",
              "      --hover-fill-color: #174EA6;\n",
              "      --disabled-fill-color: #AAA;\n",
              "      --disabled-bg-color: #DDD;\n",
              "  }\n",
              "\n",
              "  [theme=dark] .colab-df-quickchart {\n",
              "      --bg-color: #3B4455;\n",
              "      --fill-color: #D2E3FC;\n",
              "      --hover-bg-color: #434B5C;\n",
              "      --hover-fill-color: #FFFFFF;\n",
              "      --disabled-bg-color: #3B4455;\n",
              "      --disabled-fill-color: #666;\n",
              "  }\n",
              "\n",
              "  .colab-df-quickchart {\n",
              "    background-color: var(--bg-color);\n",
              "    border: none;\n",
              "    border-radius: 50%;\n",
              "    cursor: pointer;\n",
              "    display: none;\n",
              "    fill: var(--fill-color);\n",
              "    height: 32px;\n",
              "    padding: 0;\n",
              "    width: 32px;\n",
              "  }\n",
              "\n",
              "  .colab-df-quickchart:hover {\n",
              "    background-color: var(--hover-bg-color);\n",
              "    box-shadow: 0 1px 2px rgba(60, 64, 67, 0.3), 0 1px 3px 1px rgba(60, 64, 67, 0.15);\n",
              "    fill: var(--button-hover-fill-color);\n",
              "  }\n",
              "\n",
              "  .colab-df-quickchart-complete:disabled,\n",
              "  .colab-df-quickchart-complete:disabled:hover {\n",
              "    background-color: var(--disabled-bg-color);\n",
              "    fill: var(--disabled-fill-color);\n",
              "    box-shadow: none;\n",
              "  }\n",
              "\n",
              "  .colab-df-spinner {\n",
              "    border: 2px solid var(--fill-color);\n",
              "    border-color: transparent;\n",
              "    border-bottom-color: var(--fill-color);\n",
              "    animation:\n",
              "      spin 1s steps(1) infinite;\n",
              "  }\n",
              "\n",
              "  @keyframes spin {\n",
              "    0% {\n",
              "      border-color: transparent;\n",
              "      border-bottom-color: var(--fill-color);\n",
              "      border-left-color: var(--fill-color);\n",
              "    }\n",
              "    20% {\n",
              "      border-color: transparent;\n",
              "      border-left-color: var(--fill-color);\n",
              "      border-top-color: var(--fill-color);\n",
              "    }\n",
              "    30% {\n",
              "      border-color: transparent;\n",
              "      border-left-color: var(--fill-color);\n",
              "      border-top-color: var(--fill-color);\n",
              "      border-right-color: var(--fill-color);\n",
              "    }\n",
              "    40% {\n",
              "      border-color: transparent;\n",
              "      border-right-color: var(--fill-color);\n",
              "      border-top-color: var(--fill-color);\n",
              "    }\n",
              "    60% {\n",
              "      border-color: transparent;\n",
              "      border-right-color: var(--fill-color);\n",
              "    }\n",
              "    80% {\n",
              "      border-color: transparent;\n",
              "      border-right-color: var(--fill-color);\n",
              "      border-bottom-color: var(--fill-color);\n",
              "    }\n",
              "    90% {\n",
              "      border-color: transparent;\n",
              "      border-bottom-color: var(--fill-color);\n",
              "    }\n",
              "  }\n",
              "</style>\n",
              "\n",
              "  <script>\n",
              "    async function quickchart(key) {\n",
              "      const quickchartButtonEl =\n",
              "        document.querySelector('#' + key + ' button');\n",
              "      quickchartButtonEl.disabled = true;  // To prevent multiple clicks.\n",
              "      quickchartButtonEl.classList.add('colab-df-spinner');\n",
              "      try {\n",
              "        const charts = await google.colab.kernel.invokeFunction(\n",
              "            'suggestCharts', [key], {});\n",
              "      } catch (error) {\n",
              "        console.error('Error during call to suggestCharts:', error);\n",
              "      }\n",
              "      quickchartButtonEl.classList.remove('colab-df-spinner');\n",
              "      quickchartButtonEl.classList.add('colab-df-quickchart-complete');\n",
              "    }\n",
              "    (() => {\n",
              "      let quickchartButtonEl =\n",
              "        document.querySelector('#df-411b2199-39d2-4843-9335-cd4120d0e905 button');\n",
              "      quickchartButtonEl.style.display =\n",
              "        google.colab.kernel.accessAllowed ? 'block' : 'none';\n",
              "    })();\n",
              "  </script>\n",
              "</div>\n",
              "\n",
              "    </div>\n",
              "  </div>\n"
            ],
            "application/vnd.google.colaboratory.intrinsic+json": {
              "type": "dataframe",
              "summary": "{\n  \"name\": \"raw_data\",\n  \"rows\": 10,\n  \"fields\": [\n    {\n      \"column\": \"url\",\n      \"properties\": {\n        \"dtype\": \"string\",\n        \"num_unique_values\": 10,\n        \"samples\": [\n          \"tvlistings.zap2it.com/tv/the-penguins-of-madagascar/EP01116099\",\n          \"realestate.oodle.com/ordway-co/?o=25\",\n          \"freebase.com/view/en/mountain_view_cemetery\"\n        ],\n        \"semantic_type\": \"\",\n        \"description\": \"\"\n      }\n    },\n    {\n      \"column\": \"type\",\n      \"properties\": {\n        \"dtype\": \"category\",\n        \"num_unique_values\": 3,\n        \"samples\": [\n          \"benign\",\n          \"phishing\",\n          \"defacement\"\n        ],\n        \"semantic_type\": \"\",\n        \"description\": \"\"\n      }\n    }\n  ]\n}"
            }
          },
          "metadata": {},
          "execution_count": 3
        }
      ]
    },
    {
      "cell_type": "code",
      "source": [
        "df = raw_data['type'].apply(lambda x: 0 if x == 'benign' else 1)\n",
        "df = pd.concat([df, raw_data['url']], axis=1)\n",
        "df.sample(10)"
      ],
      "metadata": {
        "colab": {
          "base_uri": "https://localhost:8080/",
          "height": 363
        },
        "id": "IGLa8NJBp9ay",
        "outputId": "03eb0dbb-df61-42d6-a8ca-91fb86d5a1fd"
      },
      "execution_count": 4,
      "outputs": [
        {
          "output_type": "execute_result",
          "data": {
            "text/plain": [
              "        type                                                url\n",
              "294348     1  http://patrikcase.com/index.php?option=com_vir...\n",
              "279851     0            isu.edu/bios/theses_dissertations.shtml\n",
              "21329      0  blueprintlaw.com.au/content/readmorepage/infob...\n",
              "289670     0                           wn.com/old_National_Road\n",
              "438027     0  http://emgn.com/entertainment/meet-the-new-kin...\n",
              "610195     1          www.greenamericatoday.org/pubs/realgreen/\n",
              "428494     1  http://crisantocirugiaplastica.com/index.php?o...\n",
              "227652     0                    censusonline.us/browse/STROUSE/\n",
              "408604     0  tammieoliver.com/features/the-murder-of-precio...\n",
              "523029     1      https://perdoesdiesel.com.br/attached/Sarver/"
            ],
            "text/html": [
              "\n",
              "  <div id=\"df-4e376774-ba55-482c-a149-8abe0c1831e6\" class=\"colab-df-container\">\n",
              "    <div>\n",
              "<style scoped>\n",
              "    .dataframe tbody tr th:only-of-type {\n",
              "        vertical-align: middle;\n",
              "    }\n",
              "\n",
              "    .dataframe tbody tr th {\n",
              "        vertical-align: top;\n",
              "    }\n",
              "\n",
              "    .dataframe thead th {\n",
              "        text-align: right;\n",
              "    }\n",
              "</style>\n",
              "<table border=\"1\" class=\"dataframe\">\n",
              "  <thead>\n",
              "    <tr style=\"text-align: right;\">\n",
              "      <th></th>\n",
              "      <th>type</th>\n",
              "      <th>url</th>\n",
              "    </tr>\n",
              "  </thead>\n",
              "  <tbody>\n",
              "    <tr>\n",
              "      <th>294348</th>\n",
              "      <td>1</td>\n",
              "      <td>http://patrikcase.com/index.php?option=com_vir...</td>\n",
              "    </tr>\n",
              "    <tr>\n",
              "      <th>279851</th>\n",
              "      <td>0</td>\n",
              "      <td>isu.edu/bios/theses_dissertations.shtml</td>\n",
              "    </tr>\n",
              "    <tr>\n",
              "      <th>21329</th>\n",
              "      <td>0</td>\n",
              "      <td>blueprintlaw.com.au/content/readmorepage/infob...</td>\n",
              "    </tr>\n",
              "    <tr>\n",
              "      <th>289670</th>\n",
              "      <td>0</td>\n",
              "      <td>wn.com/old_National_Road</td>\n",
              "    </tr>\n",
              "    <tr>\n",
              "      <th>438027</th>\n",
              "      <td>0</td>\n",
              "      <td>http://emgn.com/entertainment/meet-the-new-kin...</td>\n",
              "    </tr>\n",
              "    <tr>\n",
              "      <th>610195</th>\n",
              "      <td>1</td>\n",
              "      <td>www.greenamericatoday.org/pubs/realgreen/</td>\n",
              "    </tr>\n",
              "    <tr>\n",
              "      <th>428494</th>\n",
              "      <td>1</td>\n",
              "      <td>http://crisantocirugiaplastica.com/index.php?o...</td>\n",
              "    </tr>\n",
              "    <tr>\n",
              "      <th>227652</th>\n",
              "      <td>0</td>\n",
              "      <td>censusonline.us/browse/STROUSE/</td>\n",
              "    </tr>\n",
              "    <tr>\n",
              "      <th>408604</th>\n",
              "      <td>0</td>\n",
              "      <td>tammieoliver.com/features/the-murder-of-precio...</td>\n",
              "    </tr>\n",
              "    <tr>\n",
              "      <th>523029</th>\n",
              "      <td>1</td>\n",
              "      <td>https://perdoesdiesel.com.br/attached/Sarver/</td>\n",
              "    </tr>\n",
              "  </tbody>\n",
              "</table>\n",
              "</div>\n",
              "    <div class=\"colab-df-buttons\">\n",
              "\n",
              "  <div class=\"colab-df-container\">\n",
              "    <button class=\"colab-df-convert\" onclick=\"convertToInteractive('df-4e376774-ba55-482c-a149-8abe0c1831e6')\"\n",
              "            title=\"Convert this dataframe to an interactive table.\"\n",
              "            style=\"display:none;\">\n",
              "\n",
              "  <svg xmlns=\"http://www.w3.org/2000/svg\" height=\"24px\" viewBox=\"0 -960 960 960\">\n",
              "    <path d=\"M120-120v-720h720v720H120Zm60-500h600v-160H180v160Zm220 220h160v-160H400v160Zm0 220h160v-160H400v160ZM180-400h160v-160H180v160Zm440 0h160v-160H620v160ZM180-180h160v-160H180v160Zm440 0h160v-160H620v160Z\"/>\n",
              "  </svg>\n",
              "    </button>\n",
              "\n",
              "  <style>\n",
              "    .colab-df-container {\n",
              "      display:flex;\n",
              "      gap: 12px;\n",
              "    }\n",
              "\n",
              "    .colab-df-convert {\n",
              "      background-color: #E8F0FE;\n",
              "      border: none;\n",
              "      border-radius: 50%;\n",
              "      cursor: pointer;\n",
              "      display: none;\n",
              "      fill: #1967D2;\n",
              "      height: 32px;\n",
              "      padding: 0 0 0 0;\n",
              "      width: 32px;\n",
              "    }\n",
              "\n",
              "    .colab-df-convert:hover {\n",
              "      background-color: #E2EBFA;\n",
              "      box-shadow: 0px 1px 2px rgba(60, 64, 67, 0.3), 0px 1px 3px 1px rgba(60, 64, 67, 0.15);\n",
              "      fill: #174EA6;\n",
              "    }\n",
              "\n",
              "    .colab-df-buttons div {\n",
              "      margin-bottom: 4px;\n",
              "    }\n",
              "\n",
              "    [theme=dark] .colab-df-convert {\n",
              "      background-color: #3B4455;\n",
              "      fill: #D2E3FC;\n",
              "    }\n",
              "\n",
              "    [theme=dark] .colab-df-convert:hover {\n",
              "      background-color: #434B5C;\n",
              "      box-shadow: 0px 1px 3px 1px rgba(0, 0, 0, 0.15);\n",
              "      filter: drop-shadow(0px 1px 2px rgba(0, 0, 0, 0.3));\n",
              "      fill: #FFFFFF;\n",
              "    }\n",
              "  </style>\n",
              "\n",
              "    <script>\n",
              "      const buttonEl =\n",
              "        document.querySelector('#df-4e376774-ba55-482c-a149-8abe0c1831e6 button.colab-df-convert');\n",
              "      buttonEl.style.display =\n",
              "        google.colab.kernel.accessAllowed ? 'block' : 'none';\n",
              "\n",
              "      async function convertToInteractive(key) {\n",
              "        const element = document.querySelector('#df-4e376774-ba55-482c-a149-8abe0c1831e6');\n",
              "        const dataTable =\n",
              "          await google.colab.kernel.invokeFunction('convertToInteractive',\n",
              "                                                    [key], {});\n",
              "        if (!dataTable) return;\n",
              "\n",
              "        const docLinkHtml = 'Like what you see? Visit the ' +\n",
              "          '<a target=\"_blank\" href=https://colab.research.google.com/notebooks/data_table.ipynb>data table notebook</a>'\n",
              "          + ' to learn more about interactive tables.';\n",
              "        element.innerHTML = '';\n",
              "        dataTable['output_type'] = 'display_data';\n",
              "        await google.colab.output.renderOutput(dataTable, element);\n",
              "        const docLink = document.createElement('div');\n",
              "        docLink.innerHTML = docLinkHtml;\n",
              "        element.appendChild(docLink);\n",
              "      }\n",
              "    </script>\n",
              "  </div>\n",
              "\n",
              "\n",
              "<div id=\"df-ebdd9d3a-a828-4bd9-a075-2bb5717649ee\">\n",
              "  <button class=\"colab-df-quickchart\" onclick=\"quickchart('df-ebdd9d3a-a828-4bd9-a075-2bb5717649ee')\"\n",
              "            title=\"Suggest charts\"\n",
              "            style=\"display:none;\">\n",
              "\n",
              "<svg xmlns=\"http://www.w3.org/2000/svg\" height=\"24px\"viewBox=\"0 0 24 24\"\n",
              "     width=\"24px\">\n",
              "    <g>\n",
              "        <path d=\"M19 3H5c-1.1 0-2 .9-2 2v14c0 1.1.9 2 2 2h14c1.1 0 2-.9 2-2V5c0-1.1-.9-2-2-2zM9 17H7v-7h2v7zm4 0h-2V7h2v10zm4 0h-2v-4h2v4z\"/>\n",
              "    </g>\n",
              "</svg>\n",
              "  </button>\n",
              "\n",
              "<style>\n",
              "  .colab-df-quickchart {\n",
              "      --bg-color: #E8F0FE;\n",
              "      --fill-color: #1967D2;\n",
              "      --hover-bg-color: #E2EBFA;\n",
              "      --hover-fill-color: #174EA6;\n",
              "      --disabled-fill-color: #AAA;\n",
              "      --disabled-bg-color: #DDD;\n",
              "  }\n",
              "\n",
              "  [theme=dark] .colab-df-quickchart {\n",
              "      --bg-color: #3B4455;\n",
              "      --fill-color: #D2E3FC;\n",
              "      --hover-bg-color: #434B5C;\n",
              "      --hover-fill-color: #FFFFFF;\n",
              "      --disabled-bg-color: #3B4455;\n",
              "      --disabled-fill-color: #666;\n",
              "  }\n",
              "\n",
              "  .colab-df-quickchart {\n",
              "    background-color: var(--bg-color);\n",
              "    border: none;\n",
              "    border-radius: 50%;\n",
              "    cursor: pointer;\n",
              "    display: none;\n",
              "    fill: var(--fill-color);\n",
              "    height: 32px;\n",
              "    padding: 0;\n",
              "    width: 32px;\n",
              "  }\n",
              "\n",
              "  .colab-df-quickchart:hover {\n",
              "    background-color: var(--hover-bg-color);\n",
              "    box-shadow: 0 1px 2px rgba(60, 64, 67, 0.3), 0 1px 3px 1px rgba(60, 64, 67, 0.15);\n",
              "    fill: var(--button-hover-fill-color);\n",
              "  }\n",
              "\n",
              "  .colab-df-quickchart-complete:disabled,\n",
              "  .colab-df-quickchart-complete:disabled:hover {\n",
              "    background-color: var(--disabled-bg-color);\n",
              "    fill: var(--disabled-fill-color);\n",
              "    box-shadow: none;\n",
              "  }\n",
              "\n",
              "  .colab-df-spinner {\n",
              "    border: 2px solid var(--fill-color);\n",
              "    border-color: transparent;\n",
              "    border-bottom-color: var(--fill-color);\n",
              "    animation:\n",
              "      spin 1s steps(1) infinite;\n",
              "  }\n",
              "\n",
              "  @keyframes spin {\n",
              "    0% {\n",
              "      border-color: transparent;\n",
              "      border-bottom-color: var(--fill-color);\n",
              "      border-left-color: var(--fill-color);\n",
              "    }\n",
              "    20% {\n",
              "      border-color: transparent;\n",
              "      border-left-color: var(--fill-color);\n",
              "      border-top-color: var(--fill-color);\n",
              "    }\n",
              "    30% {\n",
              "      border-color: transparent;\n",
              "      border-left-color: var(--fill-color);\n",
              "      border-top-color: var(--fill-color);\n",
              "      border-right-color: var(--fill-color);\n",
              "    }\n",
              "    40% {\n",
              "      border-color: transparent;\n",
              "      border-right-color: var(--fill-color);\n",
              "      border-top-color: var(--fill-color);\n",
              "    }\n",
              "    60% {\n",
              "      border-color: transparent;\n",
              "      border-right-color: var(--fill-color);\n",
              "    }\n",
              "    80% {\n",
              "      border-color: transparent;\n",
              "      border-right-color: var(--fill-color);\n",
              "      border-bottom-color: var(--fill-color);\n",
              "    }\n",
              "    90% {\n",
              "      border-color: transparent;\n",
              "      border-bottom-color: var(--fill-color);\n",
              "    }\n",
              "  }\n",
              "</style>\n",
              "\n",
              "  <script>\n",
              "    async function quickchart(key) {\n",
              "      const quickchartButtonEl =\n",
              "        document.querySelector('#' + key + ' button');\n",
              "      quickchartButtonEl.disabled = true;  // To prevent multiple clicks.\n",
              "      quickchartButtonEl.classList.add('colab-df-spinner');\n",
              "      try {\n",
              "        const charts = await google.colab.kernel.invokeFunction(\n",
              "            'suggestCharts', [key], {});\n",
              "      } catch (error) {\n",
              "        console.error('Error during call to suggestCharts:', error);\n",
              "      }\n",
              "      quickchartButtonEl.classList.remove('colab-df-spinner');\n",
              "      quickchartButtonEl.classList.add('colab-df-quickchart-complete');\n",
              "    }\n",
              "    (() => {\n",
              "      let quickchartButtonEl =\n",
              "        document.querySelector('#df-ebdd9d3a-a828-4bd9-a075-2bb5717649ee button');\n",
              "      quickchartButtonEl.style.display =\n",
              "        google.colab.kernel.accessAllowed ? 'block' : 'none';\n",
              "    })();\n",
              "  </script>\n",
              "</div>\n",
              "\n",
              "    </div>\n",
              "  </div>\n"
            ],
            "application/vnd.google.colaboratory.intrinsic+json": {
              "type": "dataframe",
              "summary": "{\n  \"name\": \"df\",\n  \"rows\": 10,\n  \"fields\": [\n    {\n      \"column\": \"type\",\n      \"properties\": {\n        \"dtype\": \"number\",\n        \"std\": 0,\n        \"min\": 0,\n        \"max\": 1,\n        \"num_unique_values\": 2,\n        \"samples\": [\n          0,\n          1\n        ],\n        \"semantic_type\": \"\",\n        \"description\": \"\"\n      }\n    },\n    {\n      \"column\": \"url\",\n      \"properties\": {\n        \"dtype\": \"string\",\n        \"num_unique_values\": 10,\n        \"samples\": [\n          \"tammieoliver.com/features/the-murder-of-precious-doe/\",\n          \"isu.edu/bios/theses_dissertations.shtml\"\n        ],\n        \"semantic_type\": \"\",\n        \"description\": \"\"\n      }\n    }\n  ]\n}"
            }
          },
          "metadata": {},
          "execution_count": 4
        }
      ]
    },
    {
      "cell_type": "code",
      "source": [
        "from tqdm import tqdm\n",
        "import torch\n",
        "from torch.utils.data import DataLoader, Dataset\n",
        "from torch.cuda.amp import autocast, GradScaler\n",
        "from transformers import RobertaTokenizer, RobertaForSequenceClassification, AdamW\n",
        "from transformers import DistilBertTokenizer, DistilBertForSequenceClassification\n",
        "import torch.nn.functional as F\n",
        "from sklearn.metrics import accuracy_score, classification_report, confusion_matrix\n",
        "import matplotlib.pyplot as plt\n",
        "import os"
      ],
      "metadata": {
        "id": "jTGS9OYaqEyZ"
      },
      "execution_count": 5,
      "outputs": []
    },
    {
      "cell_type": "code",
      "source": [
        "class Trainer:\n",
        "  def __init__(\n",
        "      self,\n",
        "      lr=5e-5,\n",
        "      train_batch_size=64,\n",
        "      valid_batch_size=16,\n",
        "      epoch=10,\n",
        "      shuffle=True,\n",
        "      truncation=True,\n",
        "      padding=True,\n",
        "      max_length=512,\n",
        "      accumulation_steps=4,\n",
        "      label_name='type',\n",
        "      column_name='url',\n",
        "      checkpoint_path='checkpoint',\n",
        "      patience=3,\n",
        "      min_delta=0.001\n",
        "  ):\n",
        "\n",
        "    #self.tokenizer = RobertaTokenizer.from_pretrained('microsoft/codebert-base')\n",
        "    #self.model = RobertaForSequenceClassification.from_pretrained('microsoft/codebert-base', num_labels=2)\n",
        "    self.tokenizer = DistilBertTokenizer.from_pretrained('distilbert-base-uncased')\n",
        "    self.model = DistilBertForSequenceClassification.from_pretrained('distilbert-base-uncased', num_labels=2)\n",
        "\n",
        "    self.lr = lr\n",
        "    self.train_batch_size = train_batch_size\n",
        "    self.valid_batch_size = valid_batch_size\n",
        "    self.epoch = epoch\n",
        "    self.shuffle = shuffle\n",
        "    self.truncation = truncation\n",
        "    self.padding = padding\n",
        "    self.max_length = max_length\n",
        "    self.accumulation_steps = accumulation_steps\n",
        "    self.patience = patience\n",
        "    self.min_delta = min_delta\n",
        "\n",
        "    self.optimizer = AdamW(self.model.parameters(), lr=self.lr)\n",
        "    self.device = torch.device('cuda') if torch.cuda.is_available() else torch.device('cpu')\n",
        "    self.model.to(self.device)\n",
        "\n",
        "    self.label_name=label_name\n",
        "    self.column_name=column_name\n",
        "\n",
        "    self.scaler = GradScaler()\n",
        "\n",
        "    self.train_losses = []\n",
        "    self.val_losses = []\n",
        "    self.val_accuracies = []\n",
        "\n",
        "    self.checkpoint_path = checkpoint_path\n",
        "    if not os.path.exists(self.checkpoint_path):\n",
        "      os.makedirs(self.checkpoint_path)\n",
        "\n",
        "  class URLDataset(Dataset):\n",
        "    def __init__(self, encodings, labels):\n",
        "      self.encodings = encodings\n",
        "      self.labels = labels\n",
        "\n",
        "    def __len__(self):\n",
        "      return len(self.labels)\n",
        "\n",
        "    def __getitem__(self, idx):\n",
        "      item = {key: torch.tensor(val[idx]) for key, val in self.encodings.items()}\n",
        "      item['labels'] = torch.tensor(self.labels[idx])\n",
        "      return item\n",
        "\n",
        "  def prepare_data(self, ds):\n",
        "    urls = ds[self.column_name].tolist()\n",
        "    labels = ds[self.label_name].tolist()\n",
        "    encodings = self.tokenizer(\n",
        "      urls,\n",
        "      truncation=self.truncation,\n",
        "      padding=self.padding,\n",
        "      max_length=self.max_length,\n",
        "      return_tensors=\"pt\"\n",
        "    )\n",
        "    return self.URLDataset(encodings, labels)\n",
        "\n",
        "  def train(self, dataset, val_dataset=None):\n",
        "\n",
        "    dataloader = DataLoader(dataset, batch_size=self.train_batch_size, shuffle=self.shuffle, num_workers=4, pin_memory=True)\n",
        "    if val_dataset:\n",
        "      val_dataloader = DataLoader(val_dataset, batch_size=self.valid_batch_size, shuffle=self.shuffle, num_workers=4, pin_memory=True)\n",
        "      best_loss = float('inf')\n",
        "      patience_counter = 0\n",
        "    else:\n",
        "      val_dataloader = None\n",
        "\n",
        "    self.model.train()\n",
        "\n",
        "    for e in range(self.epoch):\n",
        "      epoch_loss = 0\n",
        "      self.optimizer.zero_grad()\n",
        "\n",
        "      for i, batch in enumerate(tqdm(dataloader, desc=f\"Training Epoch {e+1}/{self.epoch}\")):\n",
        "        batch = {k: v.to(self.device) for k, v in batch.items()}\n",
        "\n",
        "        with autocast():\n",
        "          outputs = self.model(**batch)\n",
        "          loss = outputs.loss\n",
        "          loss = loss / self.accumulation_steps\n",
        "\n",
        "        self.scaler.scale(loss).backward()\n",
        "\n",
        "        if (i+1) % self.accumulation_steps == 0:\n",
        "          self.scaler.step(self.optimizer)\n",
        "          self.scaler.update()\n",
        "          self.optimizer.zero_grad()\n",
        "\n",
        "        epoch_loss += loss.item() * self.accumulation_steps\n",
        "\n",
        "      avg_loss = epoch_loss / len(dataloader)\n",
        "      self.train_losses.append(avg_loss)\n",
        "\n",
        "      if self.checkpoint_path:\n",
        "        checkpoint_dir = os.path.join(self.checkpoint_path, f\"epoch_{e+1}\")\n",
        "        torch.save(self.model.state_dict(), checkpoint_dir)\n",
        "\n",
        "      if val_dataloader:\n",
        "        val_loss = self.validate(val_dataloader)\n",
        "\n",
        "        if val_loss < best_loss - self.min_delta:\n",
        "          best_loss = val_loss\n",
        "          patience_counter = 0\n",
        "        else:\n",
        "          patience_counter += 1\n",
        "\n",
        "        if patience_counter >= self.patience:\n",
        "          print(f\"Early stopping at epoch {e+1}\")\n",
        "          break\n",
        "\n",
        "      print(f\"Epoch: {e+1}/{self.epoch}, Loss: {avg_loss}\")\n",
        "\n",
        "    self.draw_learning_curve()\n",
        "\n",
        "  def validate(self, val_dataloader):\n",
        "    self.model.eval()\n",
        "    eval_loss = 0\n",
        "    corrects = 0\n",
        "    total = 0\n",
        "\n",
        "    with torch.no_grad():\n",
        "      for batch in tqdm(val_dataloader, desc=\"Validating\"):\n",
        "        batch = {k: v.to(self.device) for k, v in batch.items()}\n",
        "\n",
        "        outputs = self.model(**batch)\n",
        "        loss = outputs.loss\n",
        "        eval_loss += loss.item()\n",
        "\n",
        "        logits = outputs.logits\n",
        "        preds = torch.argmax(logits, dim=-1)\n",
        "        labels = batch['labels']\n",
        "\n",
        "        corrects += torch.sum(preds == labels).item()\n",
        "        total += len(labels)\n",
        "\n",
        "    avg_loss = eval_loss / len(val_dataloader)\n",
        "    accuracy = corrects / total\n",
        "\n",
        "    self.val_losses.append(avg_loss)\n",
        "    self.val_accuracies.append(accuracy)\n",
        "\n",
        "    print(f\"Validation Loss: {avg_loss}, Accuracy: {accuracy}\")\n",
        "    self.model.train()\n",
        "\n",
        "    return avg_loss\n",
        "\n",
        "  def evaluate(self, dataset):\n",
        "\n",
        "    dataloader = DataLoader(dataset, batch_size=self.valid_batch_size, num_workers=4, pin_memory=True)\n",
        "    self.model.eval()\n",
        "\n",
        "    labels = []\n",
        "    preds = []\n",
        "\n",
        "    with torch.no_grad():\n",
        "      for batch in tqdm(dataloader, desc=\"Evaluating\"):\n",
        "        batch = {k: v.to(self.device) for k, v in batch.items()}\n",
        "\n",
        "        outputs = self.model(**batch)\n",
        "        logits = outputs.logits\n",
        "\n",
        "        pred = torch.argmax(logits, dim=-1)\n",
        "        preds.extend(pred.cpu().numpy())\n",
        "        labels.extend(batch['labels'].cpu().numpy())\n",
        "\n",
        "    print(classification_report(labels, preds))\n",
        "    accuracy = accuracy_score(labels, preds)\n",
        "    conf_matrix = confusion_matrix(labels, preds)\n",
        "    print(f\"Accuracy: {accuracy}\")\n",
        "    print(f\"Confusion Matrix:\\n{conf_matrix}\")\n",
        "\n",
        "  def draw_learning_curve(self):\n",
        "\n",
        "    plt.figure(figsize=(14, 7))\n",
        "\n",
        "    plt.subplot(1, 2, 1)\n",
        "    plt.plot(self.train_losses, label='Training Loss')\n",
        "    plt.plot(self.val_losses, label='Validation Loss')\n",
        "    plt.xlabel('Epochs')\n",
        "    plt.ylabel('Loss')\n",
        "    plt.title('Learning Curve')\n",
        "    plt.legend()\n",
        "\n",
        "    plt.subplot(1, 2, 2)\n",
        "    plt.plot(self.val_accuracies, label='Validation Accuracy')\n",
        "    plt.xlabel('Epochs')\n",
        "    plt.ylabel('Accuracy')\n",
        "    plt.title('Learning Curve (Accuracy)')\n",
        "    plt.legend()\n",
        "\n",
        "    plt.tight_layout()\n",
        "    plt.show()\n",
        "\n",
        "  def save(self, path):\n",
        "    if not os.path.exists(path):\n",
        "      os.makedirs(path)\n",
        "    self.model.save_pretrained(path)\n",
        "    self.tokenizer.save_pretrained(path)"
      ],
      "metadata": {
        "id": "mg02lcTaqGj7"
      },
      "execution_count": 15,
      "outputs": []
    },
    {
      "cell_type": "code",
      "source": [
        "from sklearn.model_selection import train_test_split\n",
        "train, test = train_test_split(df, test_size=0.2, stratify=df['type'], shuffle=True)\n",
        "train, val = train_test_split(train, test_size=0.2, stratify=train['type'], shuffle=True)"
      ],
      "metadata": {
        "id": "oQCZmr1YqCtD"
      },
      "execution_count": 16,
      "outputs": []
    },
    {
      "cell_type": "code",
      "source": [
        "model_path = '/content/drive/MyDrive/url-detection/v2/'"
      ],
      "metadata": {
        "id": "f6Sot36PPUgw"
      },
      "execution_count": 17,
      "outputs": []
    },
    {
      "cell_type": "code",
      "source": [
        "trainer = Trainer(\n",
        "  epoch=30,\n",
        "  train_batch_size=128,\n",
        "  valid_batch_size=32,\n",
        "  accumulation_steps=4,\n",
        "  lr=5e-5,\n",
        "  checkpoint_path=model_path+'checkpoints'\n",
        ")"
      ],
      "metadata": {
        "colab": {
          "base_uri": "https://localhost:8080/"
        },
        "id": "O65j-7ipqI2R",
        "outputId": "b229f47a-ed00-489f-f610-65fadd114dcb"
      },
      "execution_count": 18,
      "outputs": [
        {
          "output_type": "stream",
          "name": "stderr",
          "text": [
            "Some weights of DistilBertForSequenceClassification were not initialized from the model checkpoint at distilbert-base-uncased and are newly initialized: ['classifier.bias', 'classifier.weight', 'pre_classifier.bias', 'pre_classifier.weight']\n",
            "You should probably TRAIN this model on a down-stream task to be able to use it for predictions and inference.\n"
          ]
        }
      ]
    },
    {
      "cell_type": "code",
      "source": [
        "train_dataset = trainer.prepare_data(train)\n",
        "val_dataset = trainer.prepare_data(val)"
      ],
      "metadata": {
        "id": "sQra7akOOHHI"
      },
      "execution_count": 19,
      "outputs": []
    },
    {
      "cell_type": "code",
      "source": [
        "import gc\n",
        "gc.collect()\n",
        "torch.cuda.empty_cache()"
      ],
      "metadata": {
        "id": "F9y6ziGPhCsr"
      },
      "execution_count": 20,
      "outputs": []
    },
    {
      "cell_type": "code",
      "source": [
        "trainer.train(train_dataset, val_dataset)"
      ],
      "metadata": {
        "colab": {
          "base_uri": "https://localhost:8080/",
          "height": 758
        },
        "id": "hMYouLTDONUz",
        "outputId": "8e76dd49-1184-4e72-800a-53426b72cc7d"
      },
      "execution_count": 21,
      "outputs": [
        {
          "output_type": "stream",
          "name": "stderr",
          "text": [
            "Training Epoch 1/30: 100%|██████████| 3256/3256 [17:38<00:00,  3.08it/s]\n",
            "Validating: 100%|██████████| 3256/3256 [05:59<00:00,  9.04it/s]\n"
          ]
        },
        {
          "output_type": "stream",
          "name": "stdout",
          "text": [
            "Validation Loss: 0.030787468208528866, Accuracy: 0.9892793043545028\n",
            "Epoch: 1/30, Loss: 0.059791783829384396\n"
          ]
        },
        {
          "output_type": "stream",
          "name": "stderr",
          "text": [
            "Training Epoch 2/30: 100%|██████████| 3256/3256 [17:38<00:00,  3.07it/s]\n",
            "Validating: 100%|██████████| 3256/3256 [05:59<00:00,  9.05it/s]\n"
          ]
        },
        {
          "output_type": "stream",
          "name": "stdout",
          "text": [
            "Validation Loss: 0.03212064397769517, Accuracy: 0.9902870689406954\n",
            "Epoch: 2/30, Loss: 0.025494600951680754\n"
          ]
        },
        {
          "output_type": "stream",
          "name": "stderr",
          "text": [
            "Training Epoch 3/30: 100%|██████████| 3256/3256 [17:38<00:00,  3.08it/s]\n",
            "Validating: 100%|██████████| 3256/3256 [05:59<00:00,  9.05it/s]\n"
          ]
        },
        {
          "output_type": "stream",
          "name": "stdout",
          "text": [
            "Validation Loss: 0.02845742015950089, Accuracy: 0.9909589119981572\n",
            "Epoch: 3/30, Loss: 0.015449423264856255\n"
          ]
        },
        {
          "output_type": "stream",
          "name": "stderr",
          "text": [
            "Training Epoch 4/30: 100%|██████████| 3256/3256 [17:38<00:00,  3.08it/s]\n",
            "Validating: 100%|██████████| 3256/3256 [05:59<00:00,  9.05it/s]\n"
          ]
        },
        {
          "output_type": "stream",
          "name": "stdout",
          "text": [
            "Validation Loss: 0.030857629160098227, Accuracy: 0.9905654039216439\n",
            "Epoch: 4/30, Loss: 0.008546051344747315\n"
          ]
        },
        {
          "output_type": "stream",
          "name": "stderr",
          "text": [
            "Training Epoch 5/30: 100%|██████████| 3256/3256 [17:38<00:00,  3.08it/s]\n",
            "Validating: 100%|██████████| 3256/3256 [05:59<00:00,  9.05it/s]\n"
          ]
        },
        {
          "output_type": "stream",
          "name": "stdout",
          "text": [
            "Validation Loss: 0.043248784563041445, Accuracy: 0.9904790240999702\n",
            "Epoch: 5/30, Loss: 0.005438411867752167\n"
          ]
        },
        {
          "output_type": "stream",
          "name": "stderr",
          "text": [
            "Training Epoch 6/30: 100%|██████████| 3256/3256 [17:38<00:00,  3.08it/s]\n",
            "Validating: 100%|██████████| 3256/3256 [05:59<00:00,  9.06it/s]\n"
          ]
        },
        {
          "output_type": "stream",
          "name": "stdout",
          "text": [
            "Validation Loss: 0.0471300251928993, Accuracy: 0.9900183317177107\n",
            "Early stopping at epoch 6\n"
          ]
        },
        {
          "output_type": "display_data",
          "data": {
            "text/plain": [
              "<Figure size 1400x700 with 2 Axes>"
            ],
            "image/png": "[encoded data removed]"
          },
          "metadata": {}
        }
      ]
    },
    {
      "cell_type": "code",
      "source": [
        "trainer.save(model_path+'model')"
      ],
      "metadata": {
        "id": "WYdjTKpIO3hk"
      },
      "execution_count": 22,
      "outputs": []
    },
    {
      "cell_type": "code",
      "source": [
        "test_dataset = trainer.prepare_data(test)"
      ],
      "metadata": {
        "id": "Enk-Lys3PoBv"
      },
      "execution_count": 23,
      "outputs": []
    },
    {
      "cell_type": "code",
      "source": [
        "trainer.evaluate(test_dataset)"
      ],
      "metadata": {
        "colab": {
          "base_uri": "https://localhost:8080/"
        },
        "id": "tOk64dRtPljJ",
        "outputId": "8fe42d32-f8b4-477e-adfa-17487feaf7b7"
      },
      "execution_count": 24,
      "outputs": [
        {
          "output_type": "stream",
          "name": "stderr",
          "text": [
            "Evaluating: 100%|██████████| 4070/4070 [07:29<00:00,  9.04it/s]\n"
          ]
        },
        {
          "output_type": "stream",
          "name": "stdout",
          "text": [
            "              precision    recall  f1-score   support\n",
            "\n",
            "           0       0.99      0.99      0.99     85621\n",
            "           1       0.99      0.98      0.99     44618\n",
            "\n",
            "    accuracy                           0.99    130239\n",
            "   macro avg       0.99      0.99      0.99    130239\n",
            "weighted avg       0.99      0.99      0.99    130239\n",
            "\n",
            "Accuracy: 0.9901028109859565\n",
            "Confusion Matrix:\n",
            "[[85148   473]\n",
            " [  816 43802]]\n"
          ]
        }
      ]
    },
    {
      "cell_type": "code",
      "source": [
        "checkpoint_path = '/content/drive/MyDrive/url-detection/v2/checkpoints/epoch_3'"
      ],
      "metadata": {
        "id": "Vviqn0egGllx"
      },
      "execution_count": 34,
      "outputs": []
    },
    {
      "cell_type": "code",
      "source": [
        "tokenizer = DistilBertTokenizer.from_pretrained('distilbert-base-uncased')\n",
        "model = DistilBertForSequenceClassification.from_pretrained('distilbert-base-uncased', num_labels=2)\n",
        "\n",
        "model.load_state_dict(torch.load(checkpoint_path))"
      ],
      "metadata": {
        "colab": {
          "base_uri": "https://localhost:8080/"
        },
        "id": "w0tGJ6k7GzH9",
        "outputId": "9bcd1f07-3b02-435d-e31d-c76ce680d46e"
      },
      "execution_count": 35,
      "outputs": [
        {
          "output_type": "stream",
          "name": "stderr",
          "text": [
            "Some weights of DistilBertForSequenceClassification were not initialized from the model checkpoint at distilbert-base-uncased and are newly initialized: ['classifier.bias', 'classifier.weight', 'pre_classifier.bias', 'pre_classifier.weight']\n",
            "You should probably TRAIN this model on a down-stream task to be able to use it for predictions and inference.\n"
          ]
        },
        {
          "output_type": "execute_result",
          "data": {
            "text/plain": [
              "<All keys matched successfully>"
            ]
          },
          "metadata": {},
          "execution_count": 35
        }
      ]
    },
    {
      "cell_type": "code",
      "source": [
        "save_path = '/content/drive/MyDrive/url-detection/v2.1/model'"
      ],
      "metadata": {
        "id": "m1Or3RP0HH2P"
      },
      "execution_count": 36,
      "outputs": []
    },
    {
      "cell_type": "code",
      "source": [
        "model.save_pretrained(save_path)\n",
        "tokenizer.save_pretrained(save_path)"
      ],
      "metadata": {
        "colab": {
          "base_uri": "https://localhost:8080/"
        },
        "id": "QdWGfQKKHPAm",
        "outputId": "29079ff7-0b75-4cf3-a4c7-2c5e7ed855e8"
      },
      "execution_count": 37,
      "outputs": [
        {
          "output_type": "execute_result",
          "data": {
            "text/plain": [
              "('/content/drive/MyDrive/url-detection/v2.1/model/tokenizer_config.json',\n",
              " '/content/drive/MyDrive/url-detection/v2.1/model/special_tokens_map.json',\n",
              " '/content/drive/MyDrive/url-detection/v2.1/model/vocab.txt',\n",
              " '/content/drive/MyDrive/url-detection/v2.1/model/added_tokens.json')"
            ]
          },
          "metadata": {},
          "execution_count": 37
        }
      ]
    },
    {
      "cell_type": "code",
      "source": [
        "model.eval()\n",
        "\n",
        "labels = []\n",
        "preds = []\n",
        "\n",
        "dataloader = DataLoader(test_dataset, batch_size=256, num_workers=4, pin_memory=True)\n",
        "device = torch.device('cuda') if torch.cuda.is_available() else torch.device('cpu')\n",
        "model.to(device)\n",
        "\n",
        "with torch.no_grad():\n",
        "  for batch in tqdm(dataloader, desc=\"Evaluating\"):\n",
        "    batch = {k: v.to(device) for k, v in batch.items()}\n",
        "\n",
        "    outputs = model(**batch)\n",
        "    logits = outputs.logits\n",
        "\n",
        "    pred = torch.argmax(logits, dim=-1)\n",
        "    preds.extend(pred.cpu().numpy())\n",
        "    labels.extend(batch['labels'].cpu().numpy())\n",
        "\n",
        "print(classification_report(labels, preds))\n",
        "accuracy = accuracy_score(labels, preds)\n",
        "conf_matrix = confusion_matrix(labels, preds)\n",
        "print(f\"Accuracy: {accuracy}\")\n",
        "print(f\"Confusion Matrix:\\n{conf_matrix}\")"
      ],
      "metadata": {
        "colab": {
          "base_uri": "https://localhost:8080/"
        },
        "id": "9-ro-w3eH85m",
        "outputId": "7dcd8da1-bb8b-45b0-91ad-f2c0f686232e"
      },
      "execution_count": 39,
      "outputs": [
        {
          "output_type": "stream",
          "name": "stderr",
          "text": [
            "Evaluating: 100%|██████████| 509/509 [07:03<00:00,  1.20it/s]\n"
          ]
        },
        {
          "output_type": "stream",
          "name": "stdout",
          "text": [
            "              precision    recall  f1-score   support\n",
            "\n",
            "           0       0.99      0.99      0.99     85621\n",
            "           1       0.99      0.98      0.99     44618\n",
            "\n",
            "    accuracy                           0.99    130239\n",
            "   macro avg       0.99      0.99      0.99    130239\n",
            "weighted avg       0.99      0.99      0.99    130239\n",
            "\n",
            "Accuracy: 0.9906556407834827\n",
            "Confusion Matrix:\n",
            "[[85088   533]\n",
            " [  684 43934]]\n"
          ]
        }
      ]
    }
  ]
}